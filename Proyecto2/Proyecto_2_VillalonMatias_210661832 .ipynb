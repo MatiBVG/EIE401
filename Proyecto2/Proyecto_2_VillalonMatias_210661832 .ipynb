{
  "cells": [
    {
      "cell_type": "markdown",
      "id": "0a22500b-75f6-4e9e-bff8-e2166e04bd6a",
      "metadata": {
        "id": "0a22500b-75f6-4e9e-bff8-e2166e04bd6a"
      },
      "source": [
        "<h1><center>\n",
        "\n",
        "</center></h1>\n",
        "<font size=\"6\"><center>\n",
        "EIE 401\n",
        "PROCESAMIENTO DIGITAL MULTIMEDIA\n",
        "</center></font>"
      ]
    },
    {
      "cell_type": "markdown",
      "id": "4bb821ab-49e9-40ef-8ecd-d491bba9452c",
      "metadata": {
        "id": "4bb821ab-49e9-40ef-8ecd-d491bba9452c"
      },
      "source": [
        "\n",
        "<center><h2>Proyecto 2</h2></center>\n",
        "<center><h3>Procesamiento digital de señales</h3></center>\n",
        "<center><h3>Profesor: Jorge Cardenas</h3></center>\n",
        "\n",
        "<center><h3>Por: _______</h3></center>\n",
        "<center><h5>Pontificia Universidad Catolica de Valparaiso</h5></center>\n"
      ]
    },
    {
      "cell_type": "code",
      "execution_count": null,
      "id": "215c84a4",
      "metadata": {
        "id": "215c84a4"
      },
      "outputs": [],
      "source": [
        "from IPython.display import IFrame, display\n",
        "#filepath = \"Proyecto_2_EIE401.pdf\"\n",
        "#IFrame(filepath, width=700, height=400)"
      ]
    },
    {
      "cell_type": "markdown",
      "id": "c63b11e7",
      "metadata": {
        "id": "c63b11e7"
      },
      "source": [
        "En la dirección https://huggingface.co/datasets/astroboy1/metasurfaces_V1_30-90GHZ encontrarás el archivo batch_june2024.zip que contiene las imagenes que usarás para el procesamiento. ATENCION: usa el archivo zip indicado pues tienes las imagenes preparadas para tu trabajo."
      ]
    },
    {
      "cell_type": "markdown",
      "id": "f0889ee3-d16b-49e3-be4b-a4c94f28701d",
      "metadata": {
        "id": "f0889ee3-d16b-49e3-be4b-a4c94f28701d"
      },
      "source": [
        "## 1. Carga de Datos\n"
      ]
    },
    {
      "cell_type": "markdown",
      "id": "567bb56f",
      "metadata": {
        "id": "567bb56f"
      },
      "source": [
        "- En los archivos, encontrarás un folder con imagenes de 3 categorías: cross, box, circle.\n",
        "Cada imagen tiene una medida de 512x512 pixeles y 3 canales. Se han acentuado los azules y rojos para facilitar el proceso de obtención de características.\n",
        "\n",
        "- Puedes extraer la clase a la que pertenece la imagen, desde el nombre del archivo. Ahí mismo encuentras números de serie que te permiten identificar de forma específica una imagen.\n",
        "\n",
        "- Se te entrega 3 imagenes de referencia de 32x32 pixeles, las que debes usar como plantilla para el proceso de clasificación de la imagen.\n"
      ]
    },
    {
      "cell_type": "markdown",
      "source": [
        "##Librerias"
      ],
      "metadata": {
        "id": "gvLqyyDnRSCl"
      },
      "id": "gvLqyyDnRSCl"
    },
    {
      "cell_type": "code",
      "execution_count": 1,
      "id": "d0ab6ee5-d7a3-4cf7-9aee-1d1a76b5525f",
      "metadata": {
        "tags": [],
        "id": "d0ab6ee5-d7a3-4cf7-9aee-1d1a76b5525f"
      },
      "outputs": [],
      "source": [
        "import zipfile\n",
        "import requests\n",
        "import matplotlib.pyplot as plt\n",
        "import numpy as np\n",
        "import cv2\n",
        "import os\n",
        "from multiprocessing import Pool\n",
        "import shutil\n",
        "import pywt\n",
        "from timeit import default_timer as timer\n"
      ]
    },
    {
      "cell_type": "code",
      "source": [
        "#URL de descarga del archivo zip\n",
        "url = \"https://huggingface.co/datasets/astroboy1/metasurfaces_V1_30-90GHZ/resolve/main/batch_june2024.zip\"\n",
        "\n",
        "#Nombramos al archivo zip\n",
        "zip = \"batch_june2024.zip\"\n",
        "\n",
        "#Descargamos el archivo zip\n",
        "response = requests.get(url)\n",
        "with open(zip, \"wb\") as f:\n",
        "    f.write(response.content)\n",
        "print(\"Archivo Zip Descargado\")\n",
        "\n",
        "#Descomprimimos en el directorio\n",
        "with zipfile.ZipFile(zip, 'r') as zip_ref:\n",
        "    zip_ref.extractall(\".\")\n",
        "print(\"Archivo Zip descomprimido\")\n"
      ],
      "metadata": {
        "id": "-4UIw3FbRROw",
        "colab": {
          "base_uri": "https://localhost:8080/"
        },
        "outputId": "3ea34c56-8dd5-44c3-d784-986e649ff1ac"
      },
      "id": "-4UIw3FbRROw",
      "execution_count": 2,
      "outputs": [
        {
          "output_type": "stream",
          "name": "stdout",
          "text": [
            "Archivo Zip Descargado\n",
            "Archivo Zip descomprimido\n"
          ]
        }
      ]
    },
    {
      "cell_type": "code",
      "source": [
        "#Nombramos la ruta de las fotos\n",
        "original = \"processed512\"\n",
        "\n",
        "#Creamos la carpeta para las imagenes procesadas\n",
        "procesadas = \"128pix\"\n",
        "os.makedirs(procesadas, exist_ok=True)\n",
        "\n",
        "tareas = []\n",
        "for imagen in os.listdir(original):\n",
        "    if imagen.endswith(('.png')):\n",
        "        tareas.append((original, procesadas, imagen))\n",
        "\n",
        "def procesarImagen(args):\n",
        "    original, procesadas, imagen = args\n",
        "    rutaOriginal = os.path.join(original, imagen)\n",
        "    rutaFinal = os.path.join(procesadas, imagen)\n",
        "    imagen = cv2.imread(rutaOriginal)\n",
        "    imagen = cv2.cvtColor(imagen, cv2.COLOR_BGR2GRAY)\n",
        "    imagen = cv2.resize(imagen, (128, 128))\n",
        "    cv2.imwrite(rutaFinal, imagen)\n",
        "\n",
        "#Procesamiento paralelo\n",
        "with Pool(processes=4) as pool:\n",
        "    pool.map(procesarImagen, tareas)"
      ],
      "metadata": {
        "id": "tFx6EA8Kh5gU"
      },
      "id": "tFx6EA8Kh5gU",
      "execution_count": 3,
      "outputs": []
    },
    {
      "cell_type": "code",
      "source": [
        "#Ruta de las imagen original y redimensionada\n",
        "imgOr = \"processed512/box_01_freq_reflect_0ed3a0e8-a653-11ee-9db6-047c16a08772_0-30_80-90.png\"\n",
        "imgRe = \"128pix/box_01_freq_reflect_0ed3a0e8-a653-11ee-9db6-047c16a08772_0-30_80-90.png\"\n",
        "\n",
        "#Leemos las imagenes\n",
        "imagenOr = cv2.imread(imgOr)  #En BGR\n",
        "imagenRe = cv2.imread(imgRe, cv2.IMREAD_GRAYSCALE)  #En escala de grises\n",
        "\n",
        "#Mostramos las imagenes originales y procesadas\n",
        "plt.figure(figsize=(10, 5))\n",
        "\n",
        "plt.subplot(1, 2, 1)\n",
        "plt.imshow(cv2.cvtColor(imagenOr, cv2.COLOR_BGR2RGB))\n",
        "plt.title(\"Imagen original\")\n",
        "plt.axis(\"off\")\n",
        "\n",
        "plt.subplot(1, 2, 2)\n",
        "plt.imshow(imagenRe, cmap=\"gray\")\n",
        "plt.title(\"Imagen redimensionada a 128x128\")\n",
        "plt.axis(\"off\")\n",
        "\n",
        "plt.tight_layout()\n",
        "plt.show()\n"
      ],
      "metadata": {
        "id": "xULxyzdmikXG",
        "colab": {
          "base_uri": "https://localhost:8080/",
          "height": 523
        },
        "outputId": "4093f675-0d53-46a0-d294-f6a92e63d647"
      },
      "id": "xULxyzdmikXG",
      "execution_count": 4,
      "outputs": [
        {
          "output_type": "display_data",
          "data": {
            "text/plain": [
              "<Figure size 1000x500 with 2 Axes>"
            ],
            "image/png": "[encoded data removed]"
          },
          "metadata": {}
        }
      ]
    },
    {
      "cell_type": "code",
      "source": [
        "#Creamos carpeta template en caso de no existir\n",
        "os.makedirs(\"templates\", exist_ok=True)\n",
        "\n",
        "#Archivos template a mover\n",
        "archivos = [\"box_template.png\", \"circ_template.png\", \"cross_template.png\"]\n",
        "\n",
        "#Verificamos que esten los archivos en la carpeta, si no, los movemos\n",
        "archivosTemplate = all(os.path.exists(os.path.join(\"templates\", archivo)) for archivo in archivos)\n",
        "\n",
        "if archivosTemplate:\n",
        "    print(\"Los archivos ya se encuentran en la carpeta 'templates', por lo que no se realizara ninguna acción\")\n",
        "else:\n",
        "    for archivo in archivos:\n",
        "        destino = os.path.join(\"templates\", archivo)\n",
        "        if not os.path.exists(destino):\n",
        "            shutil.move(archivo, destino)\n",
        "            print(f\"{archivo} movido a 'templates'\")\n"
      ],
      "metadata": {
        "id": "gjm-qK3FtaFO",
        "colab": {
          "base_uri": "https://localhost:8080/"
        },
        "outputId": "c07df1b0-d0ef-4995-d37e-4fc651a76265"
      },
      "id": "gjm-qK3FtaFO",
      "execution_count": 5,
      "outputs": [
        {
          "output_type": "stream",
          "name": "stdout",
          "text": [
            "Los archivos ya se encuentran en la carpeta 'templates', por lo que no se realizara ninguna acción\n"
          ]
        }
      ]
    },
    {
      "cell_type": "code",
      "source": [
        "#Mostramos las imagenes en templates\n",
        "plt.figure(figsize=(12, 5))\n",
        "for idx, archivo in enumerate(archivos):\n",
        "    ruta = os.path.join(\"templates\", archivo)\n",
        "    imagen = cv2.imread(ruta, cv2.IMREAD_GRAYSCALE)  #Leemos en escala de grises\n",
        "    plt.subplot(1, len(archivos), idx + 1)\n",
        "    plt.imshow(imagen, cmap=\"gray\")\n",
        "    plt.title(archivo)\n",
        "    plt.axis(\"off\")\n",
        "\n",
        "plt.tight_layout()\n",
        "plt.show()"
      ],
      "metadata": {
        "id": "FiLndWMrvhM-",
        "colab": {
          "base_uri": "https://localhost:8080/",
          "height": 439
        },
        "outputId": "6bffc052-f801-4e1b-9641-c463fcf1ad64"
      },
      "id": "FiLndWMrvhM-",
      "execution_count": 6,
      "outputs": [
        {
          "output_type": "display_data",
          "data": {
            "text/plain": [
              "<Figure size 1200x500 with 3 Axes>"
            ],
            "image/png": "[encoded data removed]"
          },
          "metadata": {}
        }
      ]
    },
    {
      "cell_type": "markdown",
      "id": "28db8b8d",
      "metadata": {
        "id": "28db8b8d"
      },
      "source": [
        "## 2. Transformar imagen\n",
        "Recuerda que la tarea es lograr el procesamiento más rápido posible.\n",
        "Para lograr esto, realiza las operaciones que consideres necesarias sobre la imagen original para el posterior trabajo de Matching con las plantillas dadas. Crees que trabajar en el dominio de fourier o wavelet ayudaría en las etapas posteriores?"
      ]
    },
    {
      "cell_type": "code",
      "execution_count": 8,
      "id": "3cf800d9",
      "metadata": {
        "id": "3cf800d9"
      },
      "outputs": [],
      "source": [
        "#Definir carpeta con las wavelet\n",
        "carpetaWavelet = \"carpetaWave\"\n",
        "os.makedirs(carpetaWavelet, exist_ok=True)\n",
        "\n",
        "#Obtenemos lista de imagenes\n",
        "imagenes128pix = [img for img in os.listdir(procesadas) if img.endswith('.png')]\n",
        "\n",
        "#Iteramos para procesar las imagenes redimensionadas\n",
        "for nombre in imagenes128pix:\n",
        "    ruta = os.path.join(procesadas, nombre)\n",
        "    imagen = cv2.imread(ruta, cv2.IMREAD_GRAYSCALE)  #Escala de grises\n",
        "\n",
        "    if imagen is not None:\n",
        "        #Transformada wavelet\n",
        "        coeffs2 = pywt.dwt2(imagen, 'haar')\n",
        "        cA, (cH, cV, cD) = coeffs2\n",
        "\n",
        "        #Normalizamos el coeficiente\n",
        "        cANorm = cv2.normalize(cA, None, 0, 255, cv2.NORM_MINMAX)\n",
        "        cANorm2 = cANorm.astype(np.uint8)\n",
        "        salida = os.path.join(carpetaWavelet, nombre)\n",
        "        cv2.imwrite(salida, cANorm2)\n",
        "\n",
        "\n",
        "\n",
        "\n"
      ]
    },
    {
      "cell_type": "code",
      "source": [
        "#Elegimos las imagenes con wavelet\n",
        "imgEj = [\"carpetaWave/box_01_freq_reflect_0ed3a0e8-a653-11ee-9db6-047c16a08772_0-30_80-90.png\", \"carpetaWave/circ_01_freq_reflect_bd00bd23-e53b-11ee-a555-047c16a08772_0-998_80-90.png\", \"carpetaWave/cross_01_freq_reflect_e9503ad7-c681-11ee-809f-047c16a08772_0-11_80-90.png\"]\n",
        "\n",
        "Nombs = [\"Box\", \"Circ\", \"Cross\"]\n",
        "\n",
        "#Creamos el subplot\n",
        "fig, axs = plt.subplots(1, 3, figsize=(12, 5))\n",
        "\n",
        "#Mostramos las imagenes con wavelet\n",
        "for i, ruta in enumerate(imgEj):\n",
        "    img = cv2.imread(ruta, cv2.IMREAD_GRAYSCALE)\n",
        "    axs[i].imshow(img, cmap='gray')\n",
        "    axs[i].axis('off')\n",
        "    axs[i].set_title(Nombs[i])\n",
        "\n",
        "plt.tight_layout()\n",
        "plt.show()\n",
        "\n"
      ],
      "metadata": {
        "id": "dECDftZzrOUY",
        "colab": {
          "base_uri": "https://localhost:8080/",
          "height": 439
        },
        "outputId": "e6f1a44f-7784-42cc-a2f8-171d5afdde86"
      },
      "id": "dECDftZzrOUY",
      "execution_count": 9,
      "outputs": [
        {
          "output_type": "display_data",
          "data": {
            "text/plain": [
              "<Figure size 1200x500 with 3 Axes>"
            ],
            "image/png": "[encoded data removed]"
          },
          "metadata": {}
        }
      ]
    },
    {
      "cell_type": "markdown",
      "id": "c64b67c8",
      "metadata": {
        "id": "c64b67c8"
      },
      "source": [
        "## 3. Operaciones\n",
        "Para extraer las caracteristicas, debes realizar las operaciones de segmentación, normalización o convolución como creas necesarias.\n",
        "El resultado de tus operaciones vas a usarlo para el proceso de matching.\n"
      ]
    },
    {
      "cell_type": "code",
      "execution_count": 10,
      "id": "16275ac1",
      "metadata": {
        "id": "16275ac1"
      },
      "outputs": [],
      "source": [
        "#Definimos la carpeta de las imagenes template\n",
        "temp = \"templates\"\n",
        "\n",
        "#Procesamos las plantillas template con la wavelet\n",
        "templatesWave = {}\n",
        "for archivo in os.listdir(temp):\n",
        "    if archivo.endswith('.png'):\n",
        "        plantillas = os.path.join(temp, archivo)\n",
        "        imgTemp = cv2.imread(plantillas, 0)\n",
        "\n",
        "        if imgTemp is not None:\n",
        "            #En cATemplate guardo los coeficientes para reconocer las imagenes\n",
        "            cATemplate, _ = pywt.dwt2(imgTemp, 'haar')\n",
        "            #Use .normalize para normalizar los resultados\n",
        "            cATemplate = cv2.normalize(cATemplate, None, 0, 255, cv2.NORM_MINMAX).astype(np.uint8)\n",
        "            templatesWave[archivo] = cATemplate\n",
        "\n",
        "\n",
        "\n"
      ]
    },
    {
      "cell_type": "markdown",
      "id": "55e692dd",
      "metadata": {
        "id": "55e692dd"
      },
      "source": [
        "## 4. Matching\n",
        "El proceso de matching debe considerar que vas a usar las imagenes de referencia para calcular la correlación\n",
        "\n",
        "\n",
        "Este proceso es similar a un windowing, donde la ventana es la imagen de referencia.\n",
        "Como verás es un proceso iterativo, dispendioso, pero en el que puedes poner tu creatividad a funcionar para lograrlo de forma eficiente.\n",
        "\n",
        "#### _TIP: realiza el proceso un batch pequeño de imagenes, o solo sobre un par de ellas, hasta que estés satisfecho con el resultado. Una vez esté listo, ESCALA el procedimiento para operar todas la imagenes lo más rápido posible.!_"
      ]
    },
    {
      "cell_type": "code",
      "execution_count": 11,
      "id": "8e7dfee1",
      "metadata": {
        "id": "8e7dfee1",
        "colab": {
          "base_uri": "https://localhost:8080/"
        },
        "outputId": "6f439ee4-6537-4f9a-ea33-e17439248f29"
      },
      "outputs": [
        {
          "output_type": "stream",
          "name": "stdout",
          "text": [
            "52.9\n",
            "6.970095536998997\n"
          ]
        }
      ],
      "source": [
        "#Realizamos el Match de imagenes\n",
        "resultados = {}\n",
        "\n",
        "umbral = 0.5  #Definimos el umbral para reducir falsos positivos\n",
        "\n",
        "start = timer()\n",
        "print(23*2.3)\n",
        "\n",
        "for nombreImagen in os.listdir(carpetaWavelet):\n",
        "    if nombreImagen.endswith('.png'):\n",
        "        ruta = os.path.join(carpetaWavelet, nombreImagen)\n",
        "        imagen = cv2.imread(ruta, cv2.IMREAD_GRAYSCALE)\n",
        "\n",
        "        if imagen is None:\n",
        "            continue\n",
        "\n",
        "        #Puntaje minimo para asegurarnos de poder clasificarlo\n",
        "        puntajeMin = -1\n",
        "        mejorTemplate = None\n",
        "\n",
        "        for nombrePlant, plantilla in templatesWave.items():\n",
        "            if imagen.shape[0] >= plantilla.shape[0] and imagen.shape[1] >= plantilla.shape[1]:\n",
        "                resultado = cv2.matchTemplate(imagen, plantilla, cv2.TM_CCOEFF_NORMED)\n",
        "                _, max, _, _ = cv2.minMaxLoc(resultado)\n",
        "\n",
        "                #Comprobamos si superamos el umbral\n",
        "                if max > puntajeMin and max >= umbral:\n",
        "                    puntajeMin = max\n",
        "                    mejorTemplate = nombrePlant\n",
        "\n",
        "        #Guardamos los resultados con el mayor parecido\n",
        "        if mejorTemplate:\n",
        "            resultados[nombreImagen] = {\n",
        "                \"template\": mejorTemplate,\n",
        "                \"score\": puntajeMin\n",
        "            }\n",
        "        else:\n",
        "            resultados[nombreImagen] = {\n",
        "                \"template\": \"Sin coincidencia\",\n",
        "                \"score\": puntajeMin\n",
        "            }\n",
        "\n",
        "\n",
        "end = timer()\n",
        "print(end - start)\n",
        "\n"
      ]
    },
    {
      "cell_type": "markdown",
      "id": "550b44f5",
      "metadata": {
        "tags": [],
        "id": "550b44f5"
      },
      "source": [
        "# 5. Clasificación\n",
        "De cada operación realizada de matching, obtendrás valores para inferir si la imagen bajo estudio corresponde con alguna de las 3 categorías: cross, box, circle.\n",
        "\n",
        "Debes almacenar cada resultado obtenido para cada imagen, hallar el error de clasificación y generar un informe del error general al clasificar todas las imagenes."
      ]
    },
    {
      "cell_type": "markdown",
      "id": "50606ff2-b6ab-4b75-9292-ca6dfd1f2cf3",
      "metadata": {
        "tags": [],
        "id": "50606ff2-b6ab-4b75-9292-ca6dfd1f2cf3"
      },
      "source": [
        "Presenta aquí el resultado de clasificación numérico, así como  dos ejemplos verdaderos y dos ejemplos falsos de imagenes clasificadas.\n"
      ]
    },
    {
      "cell_type": "code",
      "execution_count": 12,
      "id": "13920e66-4b02-4fad-b711-78fe6249c5f8",
      "metadata": {
        "id": "13920e66-4b02-4fad-b711-78fe6249c5f8",
        "colab": {
          "base_uri": "https://localhost:8080/"
        },
        "outputId": "c74e2107-3774-4682-c91e-a874d6fc4be4"
      },
      "outputs": [
        {
          "output_type": "stream",
          "name": "stdout",
          "text": [
            "Resultados de la clasificación:\n",
            "\n",
            "Aciertos: 7215/14328\n",
            "Error del: 49.64%\n"
          ]
        }
      ],
      "source": [
        "#Definimos las variables para las imagenes bien y mal identificadas y para calcular resultados\n",
        "imgBien = []\n",
        "imgMal = []\n",
        "aciertos = 0\n",
        "total = 0\n",
        "resultClas = []\n",
        "\n",
        "#Revisamos los resultados anteriores\n",
        "for nombreImagen, info in resultados.items():\n",
        "    Templado = info[\"template\"]\n",
        "    puntajeMin = info[\"score\"]\n",
        "\n",
        "    #Extraemos los nombres antes del \"_\" para reconocer si es circle, cross o box\n",
        "    templateReal = nombreImagen.split('_')[0].lower()\n",
        "    templatePredicha = Templado.split('_')[0].lower() if Templado else \"\"\n",
        "\n",
        "    acerte = templatePredicha == templateReal\n",
        "    if acerte:\n",
        "        aciertos += 1\n",
        "        if len(imgBien) < 2:\n",
        "            imgBien.append((nombreImagen, templateReal, templatePredicha, puntajeMin))\n",
        "    else:\n",
        "        if len(imgMal) < 2:\n",
        "            imgMal.append((nombreImagen, templateReal, templatePredicha, puntajeMin))\n",
        "\n",
        "    total += 1\n",
        "    resultClas.append((nombreImagen, templateReal, templatePredicha, puntajeMin, acerte))\n",
        "\n",
        "#Calculamos el porcentaje de error\n",
        "error = (total - aciertos) /total*100\n",
        "\n",
        "#Resultados\n",
        "print(\"Resultados de la clasificación:\\n\")\n",
        "print(f\"Aciertos: {aciertos}/{total}\")\n",
        "print(f\"Error del: {error:.2f}%\")\n",
        "\n",
        "\n"
      ]
    },
    {
      "cell_type": "code",
      "source": [
        "#carpeta donde están las imágenes procesadas\n",
        "carpetaWavelet = \"carpetaWave\"\n",
        "\n",
        "#Elegimos la imagen correcta\n",
        "acert = imgBien[0][0]\n",
        "acerta = os.path.join(carpetaWavelet, acert)\n",
        "imgAcert = cv2.imread(acerta, cv2.IMREAD_GRAYSCALE)\n",
        "\n",
        "#Elegimos la imagen incorrecta\n",
        "incorrec = imgMal[0][0]\n",
        "incorrect = os.path.join(carpetaWavelet, incorrec)\n",
        "imgIncorrec = cv2.imread(incorrect, cv2.IMREAD_GRAYSCALE)\n",
        "\n",
        "fig, axs = plt.subplots(1, 2, figsize=(12, 6))\n",
        "\n",
        "#Imagen acertada\n",
        "axs[0].imshow(imgAcert, cmap='gray')\n",
        "axs[0].set_title(f\"Correcta\\nReal: {imgBien[0][1]}\\nPredicha: {imgBien[0][2]}\")\n",
        "axs[0].axis('off')\n",
        "\n",
        "#Imagen incorrecta\n",
        "axs[1].imshow(imgIncorrec, cmap='gray')\n",
        "axs[1].set_title(f\"Incorrecta\\nReal: {imgMal[0][1]}\\nPredicha: {imgMal[0][2]}\")\n",
        "axs[1].axis('off')\n",
        "\n",
        "plt.tight_layout()\n",
        "plt.show()\n"
      ],
      "metadata": {
        "id": "rUym_DXh7Lag",
        "colab": {
          "base_uri": "https://localhost:8080/",
          "height": 626
        },
        "outputId": "f5f3b59a-d636-4c6b-ad32-eb12370e4940"
      },
      "id": "rUym_DXh7Lag",
      "execution_count": 13,
      "outputs": [
        {
          "output_type": "display_data",
          "data": {
            "text/plain": [
              "<Figure size 1200x600 with 2 Axes>"
            ],
            "image/png": "[encoded data removed]"
          },
          "metadata": {}
        }
      ]
    },
    {
      "cell_type": "markdown",
      "id": "3add46e0-f5e2-4a20-8830-3e795f78d2a0",
      "metadata": {
        "id": "3add46e0-f5e2-4a20-8830-3e795f78d2a0"
      },
      "source": [
        "# 6. Medición\n",
        "Recuerda que debes imprimir el tiempo que tarda tu algoritmo en procesar todas las imagenes en la base de datos. Usa el siguiente fragmento de código, ubicando el inicio y fin donde corresponda.\n",
        "\n",
        "\n",
        "\n"
      ]
    },
    {
      "cell_type": "code",
      "execution_count": null,
      "id": "bd8e1005-2576-4d78-93eb-3a3124f5394c",
      "metadata": {
        "id": "bd8e1005-2576-4d78-93eb-3a3124f5394c"
      },
      "outputs": [],
      "source": [
        "from timeit import default_timer as timer\n",
        "\n",
        "start = timer()\n",
        "\n",
        "print(23*2.3)\n",
        "\n",
        "end = timer()\n",
        "print(end - start)\n",
        "\n"
      ]
    }
  ],
  "metadata": {
    "kernelspec": {
      "display_name": "Python 3 (ipykernel)",
      "language": "python",
      "name": "python3"
    },
    "language_info": {
      "codemirror_mode": {
        "name": "ipython",
        "version": 3
      },
      "file_extension": ".py",
      "mimetype": "text/x-python",
      "name": "python",
      "nbconvert_exporter": "python",
      "pygments_lexer": "ipython3",
      "version": "3.10.12"
    },
    "colab": {
      "provenance": []
    }
  },
  "nbformat": 4,
  "nbformat_minor": 5
}